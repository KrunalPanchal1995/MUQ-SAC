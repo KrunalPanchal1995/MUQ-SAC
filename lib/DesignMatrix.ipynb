{
 "cells": [
  {
   "cell_type": "code",
   "execution_count": 6,
   "id": "41a40e45",
   "metadata": {},
   "outputs": [],
   "source": [
    "import numpy as np\n",
    "import scipy as sp\n",
    "import pandas as pd"
   ]
  },
  {
   "cell_type": "code",
   "execution_count": 31,
   "id": "ea77a7f4",
   "metadata": {},
   "outputs": [],
   "source": [
    "n_a = 50\n",
    "n_b = 50\n",
    "n_c = 50\n",
    "\n",
    "n_rxn = 2\n",
    "generator_list_A = []\n",
    "generator_list_B = []\n",
    "generator_list_C = []\n",
    "\n",
    "sim_ = 1000\n",
    "generator_list_A.extend(list(2* np.random.random_sample((sim_,n_rxn)) - 1)[0:int(n_a)])\n",
    "\n",
    "generator_list_A.extend(list(np.eye(n_rxn)))\n",
    "generator_list_A.extend(list(-1*np.eye(n_rxn)))\n",
    "\n",
    "\n",
    "generator_list_B.extend(list(2* np.random.random_sample((sim_,2*n_rxn)) - 1)[0:int(n_b)])\n",
    "generator_list_B.extend(list(np.eye(2*n_rxn)))\n",
    "generator_list_B.extend(list(-1*np.eye(2*n_rxn)))\n",
    "generator_list_C.extend(list(2* np.random.random_sample((sim_,2*n_rxn)) - 1)[0:int(n_c)])\n",
    "generator_list_C.extend(list(np.eye(2*n_rxn)))\n",
    "generator_list_C.extend(list(-1*np.eye(2*n_rxn)))\n"
   ]
  },
  {
   "cell_type": "code",
   "execution_count": 89,
   "id": "8d927bf4",
   "metadata": {},
   "outputs": [
    {
     "name": "stdout",
     "output_type": "stream",
     "text": [
      "75\n"
     ]
    }
   ],
   "source": [
    "print(np.random.randint(0,100))"
   ]
  },
  {
   "cell_type": "code",
   "execution_count": 91,
   "id": "648ac04d",
   "metadata": {},
   "outputs": [
    {
     "name": "stdout",
     "output_type": "stream",
     "text": [
      "[0.89804074 0.45120921]\n"
     ]
    }
   ],
   "source": [
    "print(np.random.random(2))"
   ]
  },
  {
   "cell_type": "code",
   "execution_count": 48,
   "id": "5f16b6b4",
   "metadata": {},
   "outputs": [],
   "source": [
    "rxn_generators_a2 = []\n",
    "count_start_a = 0\n",
    "for j in range(len(generator_list_A)):\n",
    "    count_end_a = 1\n",
    "    rxn_generators_a2.append(generator_list_A[j][count_start_a:count_end_a])"
   ]
  },
  {
   "cell_type": "code",
   "execution_count": 92,
   "id": "86db3fd0",
   "metadata": {},
   "outputs": [],
   "source": [
    "v={}"
   ]
  },
  {
   "cell_type": "code",
   "execution_count": 132,
   "id": "f855a9cc",
   "metadata": {},
   "outputs": [],
   "source": [
    "import random\n",
    "import copy\n",
    "v[\"a\"] = [1,2,3]\n",
    "v[\"b\"] = [3,5,7]\n",
    "V ={}\n",
    "aaaa = copy.deepcopy(v)\n",
    "for rxn in v:\n",
    "    temp = []\n",
    "    for i in range(4):\n",
    "        random.shuffle(aaaa[rxn])\n",
    "        temp.extend(aaaa[rxn])\n",
    "    V[rxn] = temp"
   ]
  },
  {
   "cell_type": "code",
   "execution_count": 133,
   "id": "d887a810",
   "metadata": {},
   "outputs": [
    {
     "data": {
      "text/plain": [
       "{'a': [2, 3, 1, 3, 1, 2, 3, 1, 2, 3, 2, 1],\n",
       " 'b': [3, 5, 7, 7, 5, 3, 5, 3, 7, 7, 3, 5]}"
      ]
     },
     "execution_count": 133,
     "metadata": {},
     "output_type": "execute_result"
    }
   ],
   "source": [
    "V"
   ]
  },
  {
   "cell_type": "code",
   "execution_count": null,
   "id": "a0b7fbae",
   "metadata": {},
   "outputs": [],
   "source": []
  }
 ],
 "metadata": {
  "kernelspec": {
   "display_name": "Python 3 (ipykernel)",
   "language": "python",
   "name": "python3"
  },
  "language_info": {
   "codemirror_mode": {
    "name": "ipython",
    "version": 3
   },
   "file_extension": ".py",
   "mimetype": "text/x-python",
   "name": "python",
   "nbconvert_exporter": "python",
   "pygments_lexer": "ipython3",
   "version": "3.9.7"
  }
 },
 "nbformat": 4,
 "nbformat_minor": 5
}
