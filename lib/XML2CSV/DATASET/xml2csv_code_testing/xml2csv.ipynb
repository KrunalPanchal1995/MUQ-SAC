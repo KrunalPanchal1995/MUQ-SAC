{
 "cells": [
  {
   "cell_type": "code",
   "execution_count": 52,
   "id": "1e32a6d6",
   "metadata": {},
   "outputs": [],
   "source": [
    "import xml.etree.ElementTree as ET\n",
    "import numpy as np\n",
    "import os\n",
    "files = [i for i in os.listdir() if i.endswith(\"xml\")]"
   ]
  },
  {
   "cell_type": "code",
   "execution_count": 53,
   "id": "9c0c8c89",
   "metadata": {},
   "outputs": [
    {
     "data": {
      "text/plain": [
       "['x20000030.xml', 'x10000020.xml', 'x10000029_x.xml']"
      ]
     },
     "execution_count": 53,
     "metadata": {},
     "output_type": "execute_result"
    }
   ],
   "source": [
    "files"
   ]
  },
  {
   "cell_type": "code",
   "execution_count": 56,
   "id": "a7330009",
   "metadata": {},
   "outputs": [],
   "source": [
    "a = \"\"\n",
    "b = np.repeat(a,10)"
   ]
  },
  {
   "cell_type": "code",
   "execution_count": 57,
   "id": "9ba9510e",
   "metadata": {},
   "outputs": [
    {
     "data": {
      "text/plain": [
       "array(['', '', '', '', '', '', '', '', '', ''], dtype='<U1')"
      ]
     },
     "execution_count": 57,
     "metadata": {},
     "output_type": "execute_result"
    }
   ],
   "source": [
    "b"
   ]
  },
  {
   "cell_type": "code",
   "execution_count": 41,
   "id": "45840f90",
   "metadata": {},
   "outputs": [],
   "source": [
    "\n",
    "file = \"x10000020\"\n",
    "tree = ET.parse(file+'.xml')\n",
    "root = tree.getroot()\n",
    "Target = root.find(\".//experimentType\").text\n",
    "Target_kind = root.find(\".//kind\").text\n",
    "Target_mode = root.find(\".//mode\").text\n",
    "bibliography = root.find(\".//bibliographyLink\")\n",
    "commonProp  = root.find(\".//commonProperties\")\n",
    "dataGroup = root.findall(\".//dataGroup\")\n",
    "for i in root.findall(\"*\"):\n",
    "    if \"ignitionType\" in i.tag:\n",
    "        MeasurnmentType = root.find(\".//ignitionType\").attrib[\"target\"]+root.find(\".//ignitionType\").attrib[\"type\"]\n",
    "    else:\n",
    "        MeasurnmentType"
   ]
  },
  {
   "cell_type": "code",
   "execution_count": 18,
   "id": "8c66c3d4",
   "metadata": {},
   "outputs": [],
   "source": [
    "properties = {}\n",
    "concentartion_Dict = {}\n",
    "unsrt = {}\n",
    "datagroupDict = {}\n",
    "Dict = {}\n",
    "points = {}"
   ]
  },
  {
   "cell_type": "code",
   "execution_count": 31,
   "id": "e570c003",
   "metadata": {
    "scrolled": true
   },
   "outputs": [
    {
     "name": "stdout",
     "output_type": "stream",
     "text": [
      "{'ignition delay': {'type': 'relative', 'method': 'generic uncertainty', 'sourcetype': 'estimated', 'units': 'unitless', 'value': '0.1'}}\n"
     ]
    }
   ],
   "source": [
    "for child in commonProp:\n",
    "    #print(child.[@attribName]\n",
    "    if child.tag == \"property\":\n",
    "        if child.attrib[\"name\"] == \"initial composition\":\n",
    "            for zero in child:       \n",
    "                temp = {}\n",
    "                for minusOne in zero:\n",
    "                    if minusOne.tag == \"speciesLink\":\n",
    "                        temp[\"name\"] = minusOne.attrib[\"preferredKey\"]\n",
    "                        temp[\"CAS\"] = minusOne.attrib[\"CAS\"]\n",
    "                        temp[\"InChI\"] = minusOne.attrib[\"InChI\"]\n",
    "                        temp[\"SMILES\"] = minusOne.attrib[\"SMILES\"]\n",
    "                        temp[\"chemName\"] = minusOne.attrib[\"chemName\"]\n",
    "                    elif minusOne.tag == \"amount\":\n",
    "                        value = minusOne.text\n",
    "                        temp[\"value\"] = value\n",
    "                        temp[\"unit\"] = minusOne.attrib[\"units\"]\n",
    "                concentartion_Dict[temp[\"name\"]] = temp\n",
    "            properties[\"initial composition\"] = concentartion_Dict\n",
    "        if child.attrib[\"name\"] == \"evaluated standard deviation\" or child.attrib[\"name\"] == \"uncertainty\":\n",
    "            type_ = child.attrib[\"reference\"]\n",
    "            unsrt_Dict = {}\n",
    "            unsrt_Dict[\"type\"] = child.attrib[\"kind\"]\n",
    "            if \"method\" in child.attrib:\n",
    "                unsrt_Dict[\"method\"] = child.attrib[\"method\"]\n",
    "            else:\n",
    "                unsrt_Dict[\"method\"] = \"instrumental error\"\n",
    "                unsrt_Dict[\"bound\"] = child.attrib[\"bound\"]\n",
    "                unsrt_Dict[\"label\"] = child.attrib[\"label\"]\n",
    "            unsrt_Dict[\"sourcetype\"] = child.attrib[\"sourcetype\"]\n",
    "            unsrt_Dict[\"units\"] = child.attrib[\"units\"]\n",
    "            for zero in child:\n",
    "                #print(zero.text)\n",
    "                unsrt_Dict[\"value\"] = zero.text\n",
    "\n",
    "            unsrt[type_] = unsrt_Dict\n",
    "            properties[\"Unsrt\"] = unsrt\n",
    "        if child.attrib[\"name\"] == \"pressure\":\n",
    "            temp = {}\n",
    "            temp[\"label\"] = child.attrib[\"label\"]\n",
    "            temp[\"unit\"] = child.attrib[\"units\"]\n",
    "            temp[\"sourcetype\"] = child.attrib[\"sourcetype\"]\n",
    "            for zero in child:\n",
    "                if zero.tag == \"value\":\n",
    "                    temp[\"value\"] = zero.text\n",
    "            properties[\"pressure\"] = temp\n",
    "        if child.attrib[\"name\"] == \"temperature\":\n",
    "            temp = {}\n",
    "            temp[\"label\"] = child.attrib[\"label\"]\n",
    "            temp[\"unit\"] = child.attrib[\"units\"]\n",
    "            temp[\"sourcetype\"] = child.attrib[\"sourcetype\"]\n",
    "            for zero in child:\n",
    "                if zero.tag == \"value\":\n",
    "                    temp[\"value\"] = zero.text\n",
    "            properties[\"temperature\"] = temp\n",
    "#print(unsrt)"
   ]
  },
  {
   "cell_type": "code",
   "execution_count": 30,
   "id": "8fc5a5ee",
   "metadata": {},
   "outputs": [],
   "source": [
    "for group in dataGroup:\n",
    "    tempID = {}\n",
    "    temp = {}\n",
    "    tempID[\"id\"] = group.attrib[\"id\"]\n",
    "    for ind,child in enumerate(group):\n",
    "        if child.tag == \"property\":\n",
    "            if child.attrib[\"name\"] == \"composition\":\n",
    "                tem = {}\n",
    "                for zero in child:\n",
    "                    tem[\"specification\"] = zero.attrib\n",
    "                tem[\"name\"] = child.attrib[\"name\"]\n",
    "                tem[\"id\"] = child.attrib[\"id\"]\n",
    "                tem[\"label\"] = child.attrib[\"label\"]\n",
    "                tem[\"sourcetype\"] = child.attrib[\"sourcetype\"]\n",
    "                tem[\"units\"] = child.attrib[\"units\"]\n",
    "                temp[child.attrib[\"id\"]] = tem\n",
    "            else:\n",
    "                temp[child.attrib[\"id\"]] = child.attrib\n",
    "        if child.tag == \"dataPoint\":\n",
    "            data = {}\n",
    "            for zero in child:\n",
    "                #print(zero.tag)\n",
    "                data[zero.tag]=zero.text\n",
    "            points[str(ind-2)] = data\n",
    "    Dict[\"Variables\"] = temp\n",
    "    Dict[\"DataPoints\"] = points\n",
    "    datagroupDict[tempID[\"id\"]] = Dict\n"
   ]
  },
  {
   "cell_type": "code",
   "execution_count": 21,
   "id": "f245dc5d",
   "metadata": {},
   "outputs": [],
   "source": [
    "# Extracting pressure\n",
    "if \"pressure\" in properties:\n",
    "    pressure = float(properties[\"pressure\"][\"value\"])\n",
    "    p_unit = properties[\"pressure\"][\"unit\"]\n",
    "    p_sigma = 0 #by default\n",
    "    if \"pressure\" in unsrt:\n",
    "        p_sigma = unsrt[\"pressure\"][\"value\"]\n",
    "else:\n",
    "    pressure = []\n",
    "    for var in datagroupDict[\"dg1\"][\"Variables\"]:\n",
    "        if datagroupDict[\"dg1\"][\"Variables\"][var][\"name\"] == \"pressure\":\n",
    "            p_unit = datagroupDict[\"dg1\"][\"Variables\"][var][\"units\"] \n",
    "            for point in datagroupDict[\"dg1\"][\"DataPoints\"]:\n",
    "                pressure.append(datagroupDict[\"dg1\"][\"DataPoints\"][point][var])\n",
    "    if \"pressure\" in unsrt:\n",
    "        p_sigma = unsrt[\"pressure\"][\"value\"]"
   ]
  },
  {
   "cell_type": "code",
   "execution_count": 22,
   "id": "6edc8f63",
   "metadata": {},
   "outputs": [],
   "source": [
    "#Extracting initial composition\n",
    "if \"initial composition\" in properties:\n",
    "    bathgas = []\n",
    "    bathgas_conc = []\n",
    "    bathgas_unit = []\n",
    "    #print(properties)\n",
    "    for component in properties[\"initial composition\"]:\n",
    "        if component == \"H2\":\n",
    "            fuel = properties[\"initial composition\"][component][\"name\"]\n",
    "            fuel_conc = float(properties[\"initial composition\"][component][\"value\"])\n",
    "            fuel_unit = properties[\"initial composition\"][component][\"unit\"]\n",
    "            continue\n",
    "        elif component == \"O2\":\n",
    "            oxidizer = properties[\"initial composition\"][component][\"name\"]\n",
    "            oxidizer_conc = float(properties[\"initial composition\"][component][\"value\"])\n",
    "            oxidizer_unit = properties[\"initial composition\"][component][\"unit\"]\n",
    "            continue\n",
    "        else:\n",
    "            bathgas.append(properties[\"initial composition\"][component][\"name\"])\n",
    "            bathgas_conc.append(float(properties[\"initial composition\"][component][\"value\"]))\n",
    "            bathgas_unit.append(properties[\"initial composition\"][component][\"unit\"])\n",
    "else:\n",
    "    fuel_conc = []\n",
    "    oxidizer_conc = []\n",
    "    bathgas = []\n",
    "    bathgas_conc = []\n",
    "    for var in datagroupDict[\"dg1\"][\"Variables\"]:\n",
    "        if datagroupDict[\"dg1\"][\"Variables\"][var][\"name\"] == \"composition\":\n",
    "            if datagroupDict[\"dg1\"][\"Variables\"][var][\"specification\"][\"preferredKey\"] == \"H2\":\n",
    "                fuel = datagroupDict[\"dg1\"][\"Variables\"][var][\"specification\"][\"preferredKey\"]\n",
    "                fuel_unit = datagroupDict[\"dg1\"][\"Variables\"][var][\"units\"]\n",
    "                for point in datagroupDict[\"dg1\"][\"DataPoints\"]:\n",
    "                    fuel_conc.append(float(datagroupDict[\"dg1\"][\"DataPoints\"][point][var]))\n",
    "            elif datagroupDict[\"dg1\"][\"Variables\"][var][\"specification\"][\"preferredKey\"] == \"O2\":\n",
    "                oxidizer = datagroupDict[\"dg1\"][\"Variables\"][var][\"specification\"][\"preferredKey\"]\n",
    "                oxidizer_unit = datagroupDict[\"dg1\"][\"Variables\"][var][\"units\"]\n",
    "\n",
    "                for point in datagroupDict[\"dg1\"][\"DataPoints\"]:\n",
    "                    oxidizer_conc.append(float(datagroupDict[\"dg1\"][\"DataPoints\"][point][var]))\n",
    "            else:\n",
    "                bathgas.append(datagroupDict[\"dg1\"][\"Variables\"][var][\"specification\"][\"preferredKey\"])\n",
    "                bathgas_unit = datagroupDict[\"dg1\"][\"Variables\"][var][\"units\"]\n",
    "\n",
    "                temp_list = []\n",
    "                for point in datagroupDict[\"dg1\"][\"DataPoints\"]:\n",
    "                    temp_list.append(float(datagroupDict[\"dg1\"][\"DataPoints\"][point][var]))\n",
    "                bathgas_conc.append(temp_list)"
   ]
  },
  {
   "cell_type": "code",
   "execution_count": 23,
   "id": "60b1f607",
   "metadata": {},
   "outputs": [],
   "source": [
    "#Extracting temperature\n",
    "if \"temperature\" in properties:\n",
    "    temperature = float(properties[\"temperature\"][\"value\"])\n",
    "    t_unit = properties[\"temperature\"][\"unit\"]\n",
    "    t_sigma = 0 #by default\n",
    "    if \"temperature\" in unsrt:\n",
    "        t_sigma = unsrt[\"temperature\"][\"value\"]\n",
    "else:\n",
    "    temperature = []\n",
    "    #print(datagroupDict['dg1'][\"Variables\"])\n",
    "    for var in datagroupDict[\"dg1\"][\"Variables\"]:\n",
    "        if datagroupDict[\"dg1\"][\"Variables\"][var][\"name\"] == \"temperature\":\n",
    "            t_unit = datagroupDict[\"dg1\"][\"Variables\"][var][\"units\"] \n",
    "            for point in datagroupDict[\"dg1\"][\"DataPoints\"]:\n",
    "                temperature.append(float(datagroupDict[\"dg1\"][\"DataPoints\"][point][var]))\n",
    "    if \"temperature\" in unsrt:\n",
    "        t_sigma = unsrt[\"temperature\"][\"value\"]"
   ]
  },
  {
   "cell_type": "code",
   "execution_count": 34,
   "id": "f5304c61",
   "metadata": {},
   "outputs": [],
   "source": [
    "#Extracting experimental targets\n",
    "exp_target = []\n",
    "if Target_kind == \"flame\" and Target_mode == \"premixed\":\n",
    "    exp = 'laminar burning velocity'\n",
    "    Simulation_type = \"UnstretchedPremixed\"\n",
    "elif Target_kind == \"shock tube\":\n",
    "    exp = \"ignition delay\"\n",
    "    Simulation_type = \"isochor\"\n",
    "for var in datagroupDict['dg1']['Variables']:\n",
    "    if exp in datagroupDict['dg1']['Variables'][var]['name']:\n",
    "        exp_unit = datagroupDict['dg1']['Variables'][var]['units']\n",
    "        for point in datagroupDict[\"dg1\"][\"DataPoints\"]:\n",
    "            exp_target.append(float(datagroupDict[\"dg1\"][\"DataPoints\"][point][var]))\n",
    "if exp in unsrt:\n",
    "    exp_sigma = float(unsrt[exp][\"value\"])\n",
    "    exp_sigma_type = unsrt[exp][\"type\"]\n",
    "ndpt = len(datagroupDict[\"dg1\"][\"DataPoints\"])"
   ]
  },
  {
   "cell_type": "code",
   "execution_count": 35,
   "id": "e4bb3652",
   "metadata": {},
   "outputs": [],
   "source": [
    "Input_units = \"{}\\t{}\\t{}\\t{}\".format(fuel_unit,p_unit,t_unit,exp_unit)\n",
    "Input_data_structure = \"\"\n",
    "for i in datagroupDict['dg1'][\"Variables\"]:\n",
    "    Input_data_structure +=datagroupDict['dg1'][\"Variables\"][i][\"label\"].strip(\"[]\")+\"\\t\""
   ]
  },
  {
   "cell_type": "code",
   "execution_count": 36,
   "id": "a00ca5c5",
   "metadata": {},
   "outputs": [
    {
     "data": {
      "text/plain": [
       "'T\\ttau\\t'"
      ]
     },
     "execution_count": 36,
     "metadata": {},
     "output_type": "execute_result"
    }
   ],
   "source": [
    "#Input_data_structure"
   ]
  },
  {
   "cell_type": "code",
   "execution_count": 37,
   "id": "0d2a1ade",
   "metadata": {},
   "outputs": [],
   "source": [
    "pressure = np.repeat(pressure,ndpt)"
   ]
  },
  {
   "cell_type": "code",
   "execution_count": 39,
   "id": "d53afbc4",
   "metadata": {},
   "outputs": [],
   "source": [
    "if exp_sigma_type == \"relative\":\n",
    "    exp_std_dnvt = exp_sigma*np.asarray(exp_target)\n",
    "elif exp_sigma_type == \"absolute\":\n",
    "    exp_std_dnvt = np.repeat(exp_sigma,ndpt)"
   ]
  },
  {
   "cell_type": "code",
   "execution_count": null,
   "id": "3666f29b",
   "metadata": {},
   "outputs": [],
   "source": []
  }
 ],
 "metadata": {
  "kernelspec": {
   "display_name": "Python 3",
   "language": "python",
   "name": "python3"
  },
  "language_info": {
   "codemirror_mode": {
    "name": "ipython",
    "version": 3
   },
   "file_extension": ".py",
   "mimetype": "text/x-python",
   "name": "python",
   "nbconvert_exporter": "python",
   "pygments_lexer": "ipython3",
   "version": "3.8.8"
  }
 },
 "nbformat": 4,
 "nbformat_minor": 5
}
